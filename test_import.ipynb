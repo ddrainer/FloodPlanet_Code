{
 "cells": [
  {
   "cell_type": "code",
   "execution_count": 7,
   "metadata": {},
   "outputs": [
    {
     "name": "stderr",
     "output_type": "stream",
     "text": [
      "<>:25: SyntaxWarning: invalid escape sequence '\\F'\n",
      "<>:25: SyntaxWarning: invalid escape sequence '\\F'\n",
      "C:\\Users\\dave8\\AppData\\Local\\Temp\\ipykernel_22284\\789623131.py:25: SyntaxWarning: invalid escape sequence '\\F'\n",
      "  folder_path = 'data\\FloodPlanet\\Bangladesh\\S1'\n",
      "C:\\Users\\dave8\\AppData\\Local\\Temp\\ipykernel_22284\\789623131.py:25: SyntaxWarning: invalid escape sequence '\\F'\n",
      "  folder_path = 'data\\FloodPlanet\\Bangladesh\\S1'\n"
     ]
    },
    {
     "ename": "UnidentifiedImageError",
     "evalue": "cannot identify image file 'data\\\\FloodPlanet\\\\Bangladesh\\\\S1\\\\BGD_40_119.tif'",
     "output_type": "error",
     "traceback": [
      "\u001b[1;31m---------------------------------------------------------------------------\u001b[0m",
      "\u001b[1;31mUnidentifiedImageError\u001b[0m                    Traceback (most recent call last)",
      "Cell \u001b[1;32mIn[7], line 26\u001b[0m\n\u001b[0;32m     24\u001b[0m \u001b[38;5;66;03m# Example usage\u001b[39;00m\n\u001b[0;32m     25\u001b[0m folder_path \u001b[38;5;241m=\u001b[39m \u001b[38;5;124m'\u001b[39m\u001b[38;5;124mdata\u001b[39m\u001b[38;5;124m\\\u001b[39m\u001b[38;5;124mFloodPlanet\u001b[39m\u001b[38;5;124m\\\u001b[39m\u001b[38;5;124mBangladesh\u001b[39m\u001b[38;5;124m\\\u001b[39m\u001b[38;5;124mS1\u001b[39m\u001b[38;5;124m'\u001b[39m\n\u001b[1;32m---> 26\u001b[0m images, labels \u001b[38;5;241m=\u001b[39m \u001b[43mload_images_from_folder\u001b[49m\u001b[43m(\u001b[49m\u001b[43mfolder_path\u001b[49m\u001b[43m)\u001b[49m\n\u001b[0;32m     28\u001b[0m \u001b[38;5;66;03m# Split data into training and validation sets (optional)\u001b[39;00m\n\u001b[0;32m     29\u001b[0m \u001b[38;5;28;01mfrom\u001b[39;00m \u001b[38;5;21;01msklearn\u001b[39;00m\u001b[38;5;21;01m.\u001b[39;00m\u001b[38;5;21;01mmodel_selection\u001b[39;00m \u001b[38;5;28;01mimport\u001b[39;00m train_test_split\n",
      "Cell \u001b[1;32mIn[7], line 10\u001b[0m, in \u001b[0;36mload_images_from_folder\u001b[1;34m(folder_path)\u001b[0m\n\u001b[0;32m      8\u001b[0m \u001b[38;5;28;01mfor\u001b[39;00m filename \u001b[38;5;129;01min\u001b[39;00m os\u001b[38;5;241m.\u001b[39mlistdir(folder_path):\n\u001b[0;32m      9\u001b[0m     \u001b[38;5;28;01mif\u001b[39;00m filename\u001b[38;5;241m.\u001b[39mendswith(\u001b[38;5;124m'\u001b[39m\u001b[38;5;124m.tif\u001b[39m\u001b[38;5;124m'\u001b[39m):\n\u001b[1;32m---> 10\u001b[0m         img \u001b[38;5;241m=\u001b[39m \u001b[43mImage\u001b[49m\u001b[38;5;241;43m.\u001b[39;49m\u001b[43mopen\u001b[49m\u001b[43m(\u001b[49m\u001b[43mos\u001b[49m\u001b[38;5;241;43m.\u001b[39;49m\u001b[43mpath\u001b[49m\u001b[38;5;241;43m.\u001b[39;49m\u001b[43mjoin\u001b[49m\u001b[43m(\u001b[49m\u001b[43mfolder_path\u001b[49m\u001b[43m,\u001b[49m\u001b[43m \u001b[49m\u001b[43mfilename\u001b[49m\u001b[43m)\u001b[49m\u001b[43m)\u001b[49m\n\u001b[0;32m     11\u001b[0m         \u001b[38;5;66;03m# Convert image to numpy array\u001b[39;00m\n\u001b[0;32m     12\u001b[0m         img_array \u001b[38;5;241m=\u001b[39m np\u001b[38;5;241m.\u001b[39marray(img)\n",
      "File \u001b[1;32mc:\\Users\\dave8\\anaconda3\\envs\\flood_planet_new\\Lib\\site-packages\\PIL\\Image.py:3309\u001b[0m, in \u001b[0;36mopen\u001b[1;34m(fp, mode, formats)\u001b[0m\n\u001b[0;32m   3307\u001b[0m     warnings\u001b[38;5;241m.\u001b[39mwarn(message)\n\u001b[0;32m   3308\u001b[0m msg \u001b[38;5;241m=\u001b[39m \u001b[38;5;124m\"\u001b[39m\u001b[38;5;124mcannot identify image file \u001b[39m\u001b[38;5;132;01m%r\u001b[39;00m\u001b[38;5;124m\"\u001b[39m \u001b[38;5;241m%\u001b[39m (filename \u001b[38;5;28;01mif\u001b[39;00m filename \u001b[38;5;28;01melse\u001b[39;00m fp)\n\u001b[1;32m-> 3309\u001b[0m \u001b[38;5;28;01mraise\u001b[39;00m UnidentifiedImageError(msg)\n",
      "\u001b[1;31mUnidentifiedImageError\u001b[0m: cannot identify image file 'data\\\\FloodPlanet\\\\Bangladesh\\\\S1\\\\BGD_40_119.tif'"
     ]
    }
   ],
   "source": [
    "import numpy as np\n",
    "from PIL import Image\n",
    "import os\n",
    "\n",
    "def load_images_from_folder(folder_path):\n",
    "    images = []\n",
    "    labels = []\n",
    "    for filename in os.listdir(folder_path):\n",
    "        if filename.endswith('.tif'):\n",
    "            img = Image.open(os.path.join(folder_path, filename))\n",
    "            # Convert image to numpy array\n",
    "            img_array = np.array(img)\n",
    "            # Resize image if needed\n",
    "            img_array = img_array.resize((224, 224))  # Example resizing to 224x224\n",
    "            # Normalize pixel values\n",
    "            img_array = img_array / 255.0  # Example normalization\n",
    "            # Append image array to the list\n",
    "            images.append(img_array)\n",
    "            # Extract label from filename or use some other method to determine label\n",
    "            label = \"Bangladesh\"  # Example: Label based on folder name\n",
    "            labels.append(label)\n",
    "    return np.array(images), np.array(labels)\n",
    "\n",
    "# Example usage\n",
    "folder_path = 'data\\FloodPlanet\\Bangladesh\\S1'\n",
    "images, labels = load_images_from_folder(folder_path)\n",
    "\n",
    "# Split data into training and validation sets (optional)\n",
    "from sklearn.model_selection import train_test_split\n",
    "train_images, val_images, train_labels, val_labels = train_test_split(images, labels, test_size=0.2, random_state=42)\n",
    "\n",
    "# Now you can use train_images, train_labels, val_images, val_labels in your machine learning model\n"
   ]
  },
  {
   "cell_type": "code",
   "execution_count": 5,
   "metadata": {},
   "outputs": [
    {
     "name": "stdout",
     "output_type": "stream",
     "text": [
      "c:\\Users\\dave8\\Desktop\\FloodPlanet_Code\n",
      "C:\\Users\\dave8\\Desktop\\FloodPlanet_Code\\data\n"
     ]
    },
    {
     "name": "stderr",
     "output_type": "stream",
     "text": [
      "<>:5: SyntaxWarning: invalid escape sequence '\\d'\n",
      "<>:5: SyntaxWarning: invalid escape sequence '\\d'\n",
      "C:\\Users\\dave8\\AppData\\Local\\Temp\\ipykernel_4776\\2469074013.py:5: SyntaxWarning: invalid escape sequence '\\d'\n",
      "  os.chdir('C:\\\\Users\\dave8\\Desktop\\FloodPlanet_Code\\data\\\\')\n"
     ]
    }
   ],
   "source": [
    "# Get PWD\n",
    "import os\n",
    "print(os.getcwd())\n",
    "\n",
    "# Change PWD\n",
    "os.chdir('C:\\\\Users\\dave8\\Desktop\\FloodPlanet_Code\\data\\\\')\n",
    "print(os.getcwd())\n"
   ]
  }
 ],
 "metadata": {
  "kernelspec": {
   "display_name": "flood_planet_new",
   "language": "python",
   "name": "python3"
  },
  "language_info": {
   "codemirror_mode": {
    "name": "ipython",
    "version": 3
   },
   "file_extension": ".py",
   "mimetype": "text/x-python",
   "name": "python",
   "nbconvert_exporter": "python",
   "pygments_lexer": "ipython3",
   "version": "3.12.2"
  }
 },
 "nbformat": 4,
 "nbformat_minor": 2
}
